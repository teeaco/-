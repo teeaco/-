{
 "cells": [
  {
   "cell_type": "markdown",
   "id": "c53b2989",
   "metadata": {},
   "source": [
    "**Программа первого семестра шестилеток не отличается от программы 4-леток, кроме практики, которая является достаточно простой**"
   ]
  },
  {
   "cell_type": "markdown",
   "id": "600b7acc",
   "metadata": {},
   "source": [
    "Ссылочки:\n",
    "1. https://iu5edu.ru/wiki/cpp1 основы программирования\n",
    "2. https://github.com/iu5git гитхаб нашей кафедры\n",
    "3. https://disk.yandex.ru/d/GD8kZQmWw-ldmQ диск для первого курса от старших курсов"
   ]
  }
 ],
 "metadata": {
  "language_info": {
   "name": "python"
  }
 },
 "nbformat": 4,
 "nbformat_minor": 5
}
