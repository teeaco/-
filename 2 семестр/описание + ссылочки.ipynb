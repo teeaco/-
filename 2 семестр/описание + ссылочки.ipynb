{
 "cells": [
  {
   "cell_type": "markdown",
   "id": "750a40ed",
   "metadata": {},
   "source": [
    "**Программа второго семестра шестилеток не отличается от программы 4-леток, кроме практики, которая является достаточно простой**"
   ]
  },
  {
   "cell_type": "markdown",
   "id": "1eb5e601",
   "metadata": {},
   "source": [
    "1. https://iu5edu.ru/wiki/cpp2 ПКШ\n",
    "2. https://github.com/iu5git гитхаб нашей кафедры\n",
    "3. https://disk.yandex.ru/d/GD8kZQmWw-ldmQ диск для первого курса от старших курсов"
   ]
  }
 ],
 "metadata": {
  "language_info": {
   "name": "python"
  }
 },
 "nbformat": 4,
 "nbformat_minor": 5
}
