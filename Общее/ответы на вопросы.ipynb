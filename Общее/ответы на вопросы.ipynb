{
 "cells": [
  {
   "cell_type": "markdown",
   "id": "6444212f",
   "metadata": {},
   "source": [
    "**Точно 6 лет?**"
   ]
  },
  {
   "cell_type": "markdown",
   "id": "94bc1c25",
   "metadata": {},
   "source": [
    "Да"
   ]
  },
  {
   "cell_type": "markdown",
   "id": "2cb84ae3",
   "metadata": {},
   "source": [
    "**Что у меня будет в дипломе?**"
   ]
  },
  {
   "cell_type": "markdown",
   "id": "bcdade0a",
   "metadata": {},
   "source": [
    "Диплом нового образца об оконченном высшем образовании БВО (аналог диплома магистра)"
   ]
  },
  {
   "cell_type": "markdown",
   "id": "d24ca469",
   "metadata": {},
   "source": [
    "**Чем отличается обычный бакалавриат с которым я учусь?**"
   ]
  },
  {
   "cell_type": "markdown",
   "id": "6580aa6b",
   "metadata": {},
   "source": [
    "1. Они учатся 4 года, вы - 6\n",
    "2. Программой обучения (в некоторых местах она совпадает, в некоторых - нет)\n",
    "3. Разная степень образования, разные дипломы)"
   ]
  }
 ],
 "metadata": {
  "language_info": {
   "name": "python"
  }
 },
 "nbformat": 4,
 "nbformat_minor": 5
}
